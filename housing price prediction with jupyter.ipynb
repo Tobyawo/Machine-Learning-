{
 "cells": [
  {
   "cell_type": "code",
   "execution_count": 1,
   "metadata": {},
   "outputs": [],
   "source": [
    "#Importing the needed libraries\n",
    "import numpy as np\n",
    "import pandas as pd\n",
    "import matplotlib.pyplot as plt\n",
    "import seaborn as sns\n",
    "color = sns.color_palette()\n",
    "sns.set_style('darkgrid')\n",
    "from sklearn.linear_model import LinearRegression\n",
    "from sklearn.model_selection import train_test_split\n",
    "from sklearn.metrics import mean_squared_error\n",
    "from sklearn.metrics import accuracy_score\n",
    "from sklearn.impute import SimpleImputer\n",
    "from sklearn.preprocessing import LabelEncoder, OneHotEncoder\n",
    "from sklearn.preprocessing import StandardScaler, MinMaxScaler, Normalizer,QuantileTransformer\n",
    "import warnings\n",
    "def ignore_warn(*args, **kwargs):\n",
    "    pass\n",
    "warnings.warn = ignore_warn #ignore annoying warning (from sklearn and seaborn)"
   ]
  },
  {
   "cell_type": "code",
   "execution_count": 2,
   "metadata": {},
   "outputs": [],
   "source": [
    "model = LinearRegression()\n",
    "imputer = SimpleImputer(missing_values=np.nan, strategy='most_frequent')\n",
    "lbl = LabelEncoder()"
   ]
  },
  {
   "cell_type": "code",
   "execution_count": 3,
   "metadata": {},
   "outputs": [
    {
     "data": {
      "text/plain": [
       "(1459, 80)"
      ]
     },
     "execution_count": 3,
     "metadata": {},
     "output_type": "execute_result"
    }
   ],
   "source": [
    "#importing dataset (training and testing data)\n",
    "training_data0 = pd.read_csv(\"C:/Users/KATE/dsn/house_train_data.csv\")\n",
    "Atesting_data0 = pd.read_csv(\"C:/Users/KATE/dsn/house_test_data.csv\")\n",
    "training_data0.shape\n",
    "Atesting_data0.shape"
   ]
  },
  {
   "cell_type": "code",
   "execution_count": 4,
   "metadata": {},
   "outputs": [
    {
     "data": {
      "text/plain": [
       "(1460,)"
      ]
     },
     "execution_count": 4,
     "metadata": {},
     "output_type": "execute_result"
    }
   ],
   "source": [
    "# extracting the target variable from the training dataset\n",
    "training_Y = training_data0['SalePrice']\n",
    "training_Y.shape"
   ]
  },
  {
   "cell_type": "code",
   "execution_count": null,
   "metadata": {},
   "outputs": [
    {
     "data": {
      "text/plain": [
       "(2919, 81)"
      ]
     },
     "execution_count": 5,
     "metadata": {},
     "output_type": "execute_result"
    }
   ],
   "source": [
    "# combining both data for easy transformation.\n",
    "training_data = pd.concat([training_data0, Atesting_data0],ignore_index=True,join_axes=[training_data0.columns])\n",
    "training_data.shape"
   ]
  },
  {
   "cell_type": "code",
   "execution_count": null,
   "metadata": {},
   "outputs": [
    {
     "data": {
      "text/html": [
       "<div>\n",
       "<style scoped>\n",
       "    .dataframe tbody tr th:only-of-type {\n",
       "        vertical-align: middle;\n",
       "    }\n",
       "\n",
       "    .dataframe tbody tr th {\n",
       "        vertical-align: top;\n",
       "    }\n",
       "\n",
       "    .dataframe thead th {\n",
       "        text-align: right;\n",
       "    }\n",
       "</style>\n",
       "<table border=\"1\" class=\"dataframe\">\n",
       "  <thead>\n",
       "    <tr style=\"text-align: right;\">\n",
       "      <th></th>\n",
       "      <th>Missing Ratio</th>\n",
       "    </tr>\n",
       "  </thead>\n",
       "  <tbody>\n",
       "    <tr>\n",
       "      <th>PoolQC</th>\n",
       "      <td>99.657417</td>\n",
       "    </tr>\n",
       "    <tr>\n",
       "      <th>MiscFeature</th>\n",
       "      <td>96.402878</td>\n",
       "    </tr>\n",
       "    <tr>\n",
       "      <th>Alley</th>\n",
       "      <td>93.216855</td>\n",
       "    </tr>\n",
       "    <tr>\n",
       "      <th>Fence</th>\n",
       "      <td>80.438506</td>\n",
       "    </tr>\n",
       "    <tr>\n",
       "      <th>SalePrice</th>\n",
       "      <td>49.982871</td>\n",
       "    </tr>\n",
       "    <tr>\n",
       "      <th>FireplaceQu</th>\n",
       "      <td>48.646797</td>\n",
       "    </tr>\n",
       "    <tr>\n",
       "      <th>LotFrontage</th>\n",
       "      <td>16.649538</td>\n",
       "    </tr>\n",
       "    <tr>\n",
       "      <th>GarageYrBlt</th>\n",
       "      <td>5.447071</td>\n",
       "    </tr>\n",
       "    <tr>\n",
       "      <th>GarageFinish</th>\n",
       "      <td>5.447071</td>\n",
       "    </tr>\n",
       "    <tr>\n",
       "      <th>GarageQual</th>\n",
       "      <td>5.447071</td>\n",
       "    </tr>\n",
       "    <tr>\n",
       "      <th>GarageCond</th>\n",
       "      <td>5.447071</td>\n",
       "    </tr>\n",
       "    <tr>\n",
       "      <th>GarageType</th>\n",
       "      <td>5.378554</td>\n",
       "    </tr>\n",
       "    <tr>\n",
       "      <th>BsmtCond</th>\n",
       "      <td>2.809181</td>\n",
       "    </tr>\n",
       "    <tr>\n",
       "      <th>BsmtExposure</th>\n",
       "      <td>2.809181</td>\n",
       "    </tr>\n",
       "    <tr>\n",
       "      <th>BsmtQual</th>\n",
       "      <td>2.774923</td>\n",
       "    </tr>\n",
       "    <tr>\n",
       "      <th>BsmtFinType2</th>\n",
       "      <td>2.740665</td>\n",
       "    </tr>\n",
       "    <tr>\n",
       "      <th>BsmtFinType1</th>\n",
       "      <td>2.706406</td>\n",
       "    </tr>\n",
       "    <tr>\n",
       "      <th>MasVnrType</th>\n",
       "      <td>0.822199</td>\n",
       "    </tr>\n",
       "    <tr>\n",
       "      <th>MasVnrArea</th>\n",
       "      <td>0.787941</td>\n",
       "    </tr>\n",
       "    <tr>\n",
       "      <th>MSZoning</th>\n",
       "      <td>0.137033</td>\n",
       "    </tr>\n",
       "  </tbody>\n",
       "</table>\n",
       "</div>"
      ],
      "text/plain": [
       "              Missing Ratio\n",
       "PoolQC            99.657417\n",
       "MiscFeature       96.402878\n",
       "Alley             93.216855\n",
       "Fence             80.438506\n",
       "SalePrice         49.982871\n",
       "FireplaceQu       48.646797\n",
       "LotFrontage       16.649538\n",
       "GarageYrBlt        5.447071\n",
       "GarageFinish       5.447071\n",
       "GarageQual         5.447071\n",
       "GarageCond         5.447071\n",
       "GarageType         5.378554\n",
       "BsmtCond           2.809181\n",
       "BsmtExposure       2.809181\n",
       "BsmtQual           2.774923\n",
       "BsmtFinType2       2.740665\n",
       "BsmtFinType1       2.706406\n",
       "MasVnrType         0.822199\n",
       "MasVnrArea         0.787941\n",
       "MSZoning           0.137033"
      ]
     },
     "execution_count": 6,
     "metadata": {},
     "output_type": "execute_result"
    }
   ],
   "source": [
    "#checking missing percentage\n",
    "all_data_na = (training_data.isnull().sum() / len(training_data)) * 100\n",
    "all_data_na = all_data_na.drop(all_data_na[all_data_na == 0].index).sort_values(ascending=False)[:30]\n",
    "missing_data = pd.DataFrame({'Missing Ratio' :all_data_na})\n",
    "missing_data.head(20)"
   ]
  },
  {
   "cell_type": "code",
   "execution_count": null,
   "metadata": {},
   "outputs": [],
   "source": [
    "'''# HANDLING MISSING VALUES '''\n",
    "#deleting features with non values greateer than 10% and SalePrice column\n",
    "training_data_dropna = training_data.drop(['PoolQC','MiscFeature','Alley','Fence','FireplaceQu','LotFrontage','SalePrice'], axis=1)"
   ]
  },
  {
   "cell_type": "code",
   "execution_count": null,
   "metadata": {},
   "outputs": [],
   "source": [
    "#imputing those with less than 10% missing values with the most frequent values in their columns\n",
    "training_imp =imputer.fit_transform(training_data_dropna)\n",
    "#putting a dataframe \n",
    "training_imp2 = pd.DataFrame(training_imp, columns=training_data_dropna.columns)\n",
    "#print('training_imp2.head: \\n',training_imp2.head())"
   ]
  },
  {
   "cell_type": "code",
   "execution_count": null,
   "metadata": {},
   "outputs": [],
   "source": [
    "''' rechecking for missing values '''\n",
    "Null = pd.DataFrame(training_imp2.isnull().sum().sort_values(ascending=False))\n",
    "Null.columns = ['Null Count']\n",
    "Null.index.name = 'Feature' \n",
    "#print('number of missing values in training_imp: \\n', Null.head(20))"
   ]
  },
  {
   "cell_type": "code",
   "execution_count": null,
   "metadata": {},
   "outputs": [],
   "source": [
    "#dropping id column\n",
    "training_X = training_imp2.drop(['Id'],axis = 1)"
   ]
  },
  {
   "cell_type": "code",
   "execution_count": null,
   "metadata": {},
   "outputs": [],
   "source": [
    "'''        FEATURE ENGINEERING'''\n",
    "#Extracting categorical features\n",
    "categorical_features = training_X.select_dtypes(include=[object])\n",
    "#print('columns of categorical_features.columns',categorical_features.columns)\n",
    "#to check the uniquesness of each columns\n",
    "#print(categorical_features.head().describe())"
   ]
  },
  {
   "cell_type": "code",
   "execution_count": null,
   "metadata": {},
   "outputs": [],
   "source": [
    "#to extract the numeric features of the dataset\n",
    "numeric_features = training_data.select_dtypes(include=[np.number])\n",
    "#print('legth of numeric_features.columns',numeric_features.columns)"
   ]
  },
  {
   "cell_type": "code",
   "execution_count": null,
   "metadata": {},
   "outputs": [
    {
     "name": "stdout",
     "output_type": "stream",
     "text": [
      "training_X after labelling: \n",
      "    MSSubClass  MSZoning  LotArea  Street  LotShape\n",
      "0           5         3      619       1         3\n",
      "1           0         3      895       1         3\n",
      "2           5         3     1266       1         0\n",
      "3           6         3      883       1         0\n",
      "4           5         3     1670       1         0\n",
      "5           4         3     1650       1         0\n",
      "6           0         3     1002       1         3\n",
      "7           5         3     1074       1         0\n",
      "8           4         4      251       1         3\n",
      "9          15         3      405       1         3 (2919, 73)\n"
     ]
    }
   ],
   "source": [
    "'''LABEL ECODING OF CATEGORIZED FEATURES''' \n",
    "for column in categorical_features.columns:\n",
    "    lbl = LabelEncoder() \n",
    "    training_X[column] = lbl.fit_transform(training_X[column].values) \n",
    "print('training_X after labelling: \\n',training_X.iloc[0:10,0:5], training_X.shape)"
   ]
  },
  {
   "cell_type": "code",
   "execution_count": null,
   "metadata": {},
   "outputs": [],
   "source": [
    "''' ONE HOT ENCODING OF CATEGORIZED FEATURES'''\n",
    "col_num = []\n",
    "for col in categorical_features.columns:\n",
    "    col_num += [training_X.columns.get_loc(col)]\n",
    "for num in col_num:    \n",
    "    onehotencoder = OneHotEncoder(categorical_features=[num])\n",
    "    training_X = pd.DataFrame(onehotencoder.fit_transform(training_X).toarray())\n",
    "print('training_X after onehotencoder: \\n',training_X.iloc[0:10,0:5],training_X.shape)"
   ]
  },
  {
   "cell_type": "code",
   "execution_count": null,
   "metadata": {},
   "outputs": [],
   "source": [
    "''' TO GET DUMMIES'''  \n",
    "training_X = pd.get_dummies(training_X)\n",
    "#print('training_X after dummies: \\n',training_X.iloc[0:10,0:5], training_X.shape)"
   ]
  },
  {
   "cell_type": "code",
   "execution_count": null,
   "metadata": {},
   "outputs": [],
   "source": [
    "'''SPLITTING THE TRAIN.CSV AND TEST DATA.CSV '''\n",
    "train_sets = training_X.loc[0:1459,:]\n",
    "print(train_sets.shape)\n",
    "test_sets = training_X.loc[1460:2919,:]\n",
    "print(test_sets.shape)"
   ]
  },
  {
   "cell_type": "code",
   "execution_count": null,
   "metadata": {},
   "outputs": [],
   "source": [
    "'''SPLITTING TRAIN DATASET FOR MODEL VALIDATION '''\n",
    "X_train, X_test, y_train, y_test = train_test_split(train_sets, np.log1p(training_Y), test_size=0.3, random_state=42)\n",
    "print(len(X_train),len(X_test),len(y_train),len(y_test))\n",
    "#print('X_train before normalized:\\n', X_train.iloc[0:10,0:10], X_train.shape)"
   ]
  },
  {
   "cell_type": "code",
   "execution_count": null,
   "metadata": {},
   "outputs": [],
   "source": [
    "''' NORMALIZING THE X_TRAIN AND X_TEST\n",
    "NOTE: When Normalizing, you fit and transform the training data  but only transform the testing data'''\n",
    "#using Standardization\n",
    "normalizer = Normalizer()\n",
    "X_train_n = normalizer.fit_transform(X_train)\n",
    "X_test_n = normalizer.transform(X_test)\n",
    "print('X_train_n after normalized:\\n',pd.DataFrame(X_train_n[0:10,0:10]), X_train_n.shape)"
   ]
  },
  {
   "cell_type": "code",
   "execution_count": null,
   "metadata": {},
   "outputs": [],
   "source": []
  },
  {
   "cell_type": "code",
   "execution_count": null,
   "metadata": {},
   "outputs": [],
   "source": []
  },
  {
   "cell_type": "code",
   "execution_count": null,
   "metadata": {},
   "outputs": [],
   "source": []
  },
  {
   "cell_type": "code",
   "execution_count": null,
   "metadata": {},
   "outputs": [],
   "source": []
  },
  {
   "cell_type": "code",
   "execution_count": null,
   "metadata": {},
   "outputs": [],
   "source": []
  },
  {
   "cell_type": "code",
   "execution_count": null,
   "metadata": {},
   "outputs": [],
   "source": [
    "#fitting the model on the normalized train X and y train\n",
    "model_fit = model.fit(X_train_n, y_train)\n",
    "#predicting the target on  normalized test data\n",
    "model_pred = pd.DataFrame(np.exp(model.predict(X_test_n)))\n",
    "#print(model_pred[0:10])\n",
    "#print('RMSE is : \\n', np.sqrt(mean_squared_error(y_test, model_pred)))"
   ]
  },
  {
   "cell_type": "code",
   "execution_count": null,
   "metadata": {},
   "outputs": [],
   "source": [
    "''' visualizing'''\n",
    "plt.scatter(y_test, model_pred, alpha= .7)\n",
    "plt.xlabel('Predicted price')\n",
    "plt.ylabel(' Actual Price')\n",
    "plt.title('Linear Regression Model')"
   ]
  },
  {
   "cell_type": "code",
   "execution_count": null,
   "metadata": {},
   "outputs": [],
   "source": [
    "'''PREDICTING THE TARGET VALUES OF TESTING DATA.CSV'''\n",
    "\n",
    "normalizer = Normalizer()\n",
    "test_sets_n = normalizer.transform(test_sets)\n",
    "final_model_pred = np.exp(model.predict(test_sets_n))\n",
    "final_price_pred = pd.DataFrame(final_model_pred, columns =['SalePrice'], index = Atesting_data0['Id'])\n",
    "print(final_price_pred[0:10])\n",
    "#final_price_pred.to_csv ('price_pred_submission4.csv')"
   ]
  }
 ],
 "metadata": {
  "kernelspec": {
   "display_name": "Python 3",
   "language": "python",
   "name": "python3"
  },
  "language_info": {
   "codemirror_mode": {
    "name": "ipython",
    "version": 3
   },
   "file_extension": ".py",
   "mimetype": "text/x-python",
   "name": "python",
   "nbconvert_exporter": "python",
   "pygments_lexer": "ipython3",
   "version": "3.7.1"
  }
 },
 "nbformat": 4,
 "nbformat_minor": 2
}
